{
 "cells": [
  {
   "cell_type": "code",
   "execution_count": 82,
   "id": "b539a126",
   "metadata": {},
   "outputs": [
    {
     "name": "stdout",
     "output_type": "stream",
     "text": [
      "dataset data size is (414, 8)\n"
     ]
    },
    {
     "data": {
      "text/html": [
       "<div>\n",
       "<style scoped>\n",
       "    .dataframe tbody tr th:only-of-type {\n",
       "        vertical-align: middle;\n",
       "    }\n",
       "\n",
       "    .dataframe tbody tr th {\n",
       "        vertical-align: top;\n",
       "    }\n",
       "\n",
       "    .dataframe thead th {\n",
       "        text-align: right;\n",
       "    }\n",
       "</style>\n",
       "<table border=\"1\" class=\"dataframe\">\n",
       "  <thead>\n",
       "    <tr style=\"text-align: right;\">\n",
       "      <th></th>\n",
       "      <th>No</th>\n",
       "      <th>X1 transaction date</th>\n",
       "      <th>X2 house age</th>\n",
       "      <th>X3 distance to the nearest MRT station</th>\n",
       "      <th>X4 number of convenience stores</th>\n",
       "      <th>X5 latitude</th>\n",
       "      <th>X6 longitude</th>\n",
       "      <th>Y house price of unit area</th>\n",
       "    </tr>\n",
       "  </thead>\n",
       "  <tbody>\n",
       "    <tr>\n",
       "      <th>0</th>\n",
       "      <td>1</td>\n",
       "      <td>2012.916667</td>\n",
       "      <td>32.0</td>\n",
       "      <td>84.87882</td>\n",
       "      <td>10</td>\n",
       "      <td>24.98298</td>\n",
       "      <td>121.54024</td>\n",
       "      <td>37.9</td>\n",
       "    </tr>\n",
       "    <tr>\n",
       "      <th>1</th>\n",
       "      <td>2</td>\n",
       "      <td>2012.916667</td>\n",
       "      <td>19.5</td>\n",
       "      <td>306.59470</td>\n",
       "      <td>9</td>\n",
       "      <td>24.98034</td>\n",
       "      <td>121.53951</td>\n",
       "      <td>42.2</td>\n",
       "    </tr>\n",
       "    <tr>\n",
       "      <th>2</th>\n",
       "      <td>3</td>\n",
       "      <td>2013.583333</td>\n",
       "      <td>13.3</td>\n",
       "      <td>561.98450</td>\n",
       "      <td>5</td>\n",
       "      <td>24.98746</td>\n",
       "      <td>121.54391</td>\n",
       "      <td>47.3</td>\n",
       "    </tr>\n",
       "    <tr>\n",
       "      <th>3</th>\n",
       "      <td>4</td>\n",
       "      <td>2013.500000</td>\n",
       "      <td>13.3</td>\n",
       "      <td>561.98450</td>\n",
       "      <td>5</td>\n",
       "      <td>24.98746</td>\n",
       "      <td>121.54391</td>\n",
       "      <td>54.8</td>\n",
       "    </tr>\n",
       "    <tr>\n",
       "      <th>4</th>\n",
       "      <td>5</td>\n",
       "      <td>2012.833333</td>\n",
       "      <td>5.0</td>\n",
       "      <td>390.56840</td>\n",
       "      <td>5</td>\n",
       "      <td>24.97937</td>\n",
       "      <td>121.54245</td>\n",
       "      <td>43.1</td>\n",
       "    </tr>\n",
       "  </tbody>\n",
       "</table>\n",
       "</div>"
      ],
      "text/plain": [
       "   No  X1 transaction date  X2 house age  \\\n",
       "0   1          2012.916667          32.0   \n",
       "1   2          2012.916667          19.5   \n",
       "2   3          2013.583333          13.3   \n",
       "3   4          2013.500000          13.3   \n",
       "4   5          2012.833333           5.0   \n",
       "\n",
       "   X3 distance to the nearest MRT station  X4 number of convenience stores  \\\n",
       "0                                84.87882                               10   \n",
       "1                               306.59470                                9   \n",
       "2                               561.98450                                5   \n",
       "3                               561.98450                                5   \n",
       "4                               390.56840                                5   \n",
       "\n",
       "   X5 latitude  X6 longitude  Y house price of unit area  \n",
       "0     24.98298     121.54024                        37.9  \n",
       "1     24.98034     121.53951                        42.2  \n",
       "2     24.98746     121.54391                        47.3  \n",
       "3     24.98746     121.54391                        54.8  \n",
       "4     24.97937     121.54245                        43.1  "
      ]
     },
     "execution_count": 82,
     "metadata": {},
     "output_type": "execute_result"
    }
   ],
   "source": [
    "import urllib\n",
    "import matplotlib.pyplot as plt\n",
    "import numpy as np\n",
    "import pandas as pd\n",
    "import statsmodels.api as sm\n",
    "from sklearn import linear_model\n",
    "\n",
    "dataset = pd.read_excel(r'https://archive.ics.uci.edu/ml/machine-learning-databases/00477/Real%20estate%20valuation%20data%20set.xlsx')\n",
    "print(\"dataset data size is {}\".format(dataset.shape))\n",
    "    \n",
    "pd.set_option(\"display.max.columns\", None)\n",
    "\n",
    "dataset.head()"
   ]
  },
  {
   "cell_type": "code",
   "execution_count": 51,
   "id": "f019fe50",
   "metadata": {},
   "outputs": [
    {
     "name": "stdout",
     "output_type": "stream",
     "text": [
      "Using matplotlib backend: TkAgg\n"
     ]
    }
   ],
   "source": [
    "#%matplotlib"
   ]
  },
  {
   "cell_type": "markdown",
   "id": "7b18f68e",
   "metadata": {},
   "source": [
    "**Checking for dependence between house age and house price"
   ]
  },
  {
   "cell_type": "code",
   "execution_count": 83,
   "id": "129bd8e6",
   "metadata": {},
   "outputs": [],
   "source": [
    "plt.scatter(dataset['X2 house age'], dataset['Y house price of unit area'], color='red')\n",
    "plt.title('House age vs house price of unit area', fontsize=14)\n",
    "plt.xlabel('house age', fontsize=14)\n",
    "plt.ylabel('house price of unit area', fontsize=14)\n",
    "plt.grid(True)\n",
    "plt.show()"
   ]
  },
  {
   "cell_type": "markdown",
   "id": "6a58e830",
   "metadata": {},
   "source": [
    "**Checking for dependence between distance to nearest MRT station and house price"
   ]
  },
  {
   "cell_type": "code",
   "execution_count": 84,
   "id": "7fc8800a",
   "metadata": {},
   "outputs": [],
   "source": [
    "plt.scatter(dataset['X3 distance to the nearest MRT station'], dataset['Y house price of unit area'], color='red')\n",
    "plt.title('X3 distance to the nearest MRT station vs house price of unit area', fontsize=14)\n",
    "plt.xlabel('X3 distance to the nearest MRT station', fontsize=14)\n",
    "plt.ylabel('house price of unit area', fontsize=14)\n",
    "plt.grid(True)\n",
    "plt.show()"
   ]
  },
  {
   "cell_type": "markdown",
   "id": "fde3159a",
   "metadata": {},
   "source": [
    "**Checking for dependence between number of convenience stores and house price"
   ]
  },
  {
   "cell_type": "code",
   "execution_count": 85,
   "id": "a6256e19",
   "metadata": {},
   "outputs": [],
   "source": [
    "plt.scatter(dataset['X4 number of convenience stores'], dataset['Y house price of unit area'], color='red')\n",
    "plt.title('X4 number of convenience stores vs house price of unit area', fontsize=14)\n",
    "plt.xlabel('X4 number of convenience stores', fontsize=14)\n",
    "plt.ylabel('house price of unit area', fontsize=14)\n",
    "plt.grid(True)\n",
    "plt.show()"
   ]
  },
  {
   "cell_type": "markdown",
   "id": "8eb8d7fe",
   "metadata": {},
   "source": [
    "**Performing multiple linear regression experiment"
   ]
  },
  {
   "cell_type": "code",
   "execution_count": 86,
   "id": "bea235af",
   "metadata": {
    "scrolled": true
   },
   "outputs": [
    {
     "name": "stdout",
     "output_type": "stream",
     "text": [
      "Intercept: \n",
      " 42.97728620606409\n",
      "Coefficients: \n",
      " [-0.25285583 -0.00537913  1.29744248]\n"
     ]
    }
   ],
   "source": [
    "X = dataset[['X2 house age','X3 distance to the nearest MRT station', 'X4 number of convenience stores']]\n",
    "Y = dataset['Y house price of unit area']\n",
    "regr = linear_model.LinearRegression()\n",
    "regr.fit(X, Y)\n",
    "\n",
    "print('Intercept: \\n', regr.intercept_)\n",
    "print('Coefficients: \\n', regr.coef_)"
   ]
  },
  {
   "cell_type": "markdown",
   "id": "bb9d6849",
   "metadata": {},
   "source": [
    "**test prediction - expecting high price"
   ]
  },
  {
   "cell_type": "code",
   "execution_count": 87,
   "id": "26179c03",
   "metadata": {
    "scrolled": false
   },
   "outputs": [
    {
     "name": "stdout",
     "output_type": "stream",
     "text": [
      "Predicted house price: \n",
      " [49.75244182]\n"
     ]
    },
    {
     "name": "stderr",
     "output_type": "stream",
     "text": [
      "C:\\Users\\yuras\\AppData\\Local\\Packages\\PythonSoftwareFoundation.Python.3.8_qbz5n2kfra8p0\\LocalCache\\local-packages\\Python38\\site-packages\\sklearn\\base.py:450: UserWarning: X does not have valid feature names, but LinearRegression was fitted with feature names\n",
      "  warnings.warn(\n"
     ]
    }
   ],
   "source": [
    "New_house_age = 10\n",
    "New_distance_to_the_nearest_MRT_station = 200\n",
    "New_number_of_convenience_stores = 8\n",
    "\n",
    "print ('Predicted house price: \\n', regr.predict([[New_house_age, New_distance_to_the_nearest_MRT_station, \n",
    "                                                   New_number_of_convenience_stores]]))"
   ]
  },
  {
   "cell_type": "markdown",
   "id": "a5edf3c9",
   "metadata": {},
   "source": [
    "**statsmodel model view"
   ]
  },
  {
   "cell_type": "code",
   "execution_count": 88,
   "id": "1ff0dd83",
   "metadata": {},
   "outputs": [
    {
     "name": "stdout",
     "output_type": "stream",
     "text": [
      "                                OLS Regression Results                                \n",
      "======================================================================================\n",
      "Dep. Variable:     Y house price of unit area   R-squared:                       0.541\n",
      "Model:                                    OLS   Adj. R-squared:                  0.538\n",
      "Method:                         Least Squares   F-statistic:                     161.1\n",
      "Date:                        Tue, 24 May 2022   Prob (F-statistic):           5.44e-69\n",
      "Time:                                19:49:43   Log-Likelihood:                -1506.5\n",
      "No. Observations:                         414   AIC:                             3021.\n",
      "Df Residuals:                             410   BIC:                             3037.\n",
      "Df Model:                                   3                                         \n",
      "Covariance Type:                    nonrobust                                         \n",
      "==========================================================================================================\n",
      "                                             coef    std err          t      P>|t|      [0.025      0.975]\n",
      "----------------------------------------------------------------------------------------------------------\n",
      "const                                     42.9773      1.385     31.041      0.000      40.256      45.699\n",
      "X2 house age                              -0.2529      0.040     -6.305      0.000      -0.332      -0.174\n",
      "X3 distance to the nearest MRT station    -0.0054      0.000    -11.874      0.000      -0.006      -0.004\n",
      "X4 number of convenience stores            1.2974      0.194      6.678      0.000       0.916       1.679\n",
      "==============================================================================\n",
      "Omnibus:                      222.427   Durbin-Watson:                   2.115\n",
      "Prob(Omnibus):                  0.000   Jarque-Bera (JB):             3065.900\n",
      "Skew:                           1.958   Prob(JB):                         0.00\n",
      "Kurtosis:                      15.744   Cond. No.                     5.09e+03\n",
      "==============================================================================\n",
      "\n",
      "Notes:\n",
      "[1] Standard Errors assume that the covariance matrix of the errors is correctly specified.\n",
      "[2] The condition number is large, 5.09e+03. This might indicate that there are\n",
      "strong multicollinearity or other numerical problems.\n"
     ]
    }
   ],
   "source": [
    "X = sm.add_constant(X)\n",
    "model = sm.OLS(Y, X).fit()\n",
    "predictions = model.predict(X) \n",
    " \n",
    "print_model = model.summary()\n",
    "print(print_model)"
   ]
  },
  {
   "cell_type": "markdown",
   "id": "6d43c823",
   "metadata": {},
   "source": [
    "**test prediction - expecting low price"
   ]
  },
  {
   "cell_type": "code",
   "execution_count": 89,
   "id": "cfa07a82",
   "metadata": {},
   "outputs": [
    {
     "name": "stdout",
     "output_type": "stream",
     "text": [
      "Predicted house price: \n",
      " [30.46143157]\n"
     ]
    },
    {
     "name": "stderr",
     "output_type": "stream",
     "text": [
      "C:\\Users\\yuras\\AppData\\Local\\Packages\\PythonSoftwareFoundation.Python.3.8_qbz5n2kfra8p0\\LocalCache\\local-packages\\Python38\\site-packages\\sklearn\\base.py:450: UserWarning: X does not have valid feature names, but LinearRegression was fitted with feature names\n",
      "  warnings.warn(\n"
     ]
    }
   ],
   "source": [
    "New_house_age = 50\n",
    "New_distance_to_the_nearest_MRT_station = 700\n",
    "New_number_of_convenience_stores = 3\n",
    "\n",
    "print ('Predicted house price: \\n', regr.predict([[New_house_age, New_distance_to_the_nearest_MRT_station, \n",
    "                                                   New_number_of_convenience_stores]]))"
   ]
  },
  {
   "cell_type": "code",
   "execution_count": null,
   "id": "e3f001ea",
   "metadata": {},
   "outputs": [],
   "source": []
  }
 ],
 "metadata": {
  "kernelspec": {
   "display_name": "Python 3 (ipykernel)",
   "language": "python",
   "name": "python3"
  },
  "language_info": {
   "codemirror_mode": {
    "name": "ipython",
    "version": 3
   },
   "file_extension": ".py",
   "mimetype": "text/x-python",
   "name": "python",
   "nbconvert_exporter": "python",
   "pygments_lexer": "ipython3",
   "version": "3.8.10"
  }
 },
 "nbformat": 4,
 "nbformat_minor": 5
}
